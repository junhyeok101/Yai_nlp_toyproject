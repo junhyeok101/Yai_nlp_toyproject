{
 "cells": [
  {
   "cell_type": "markdown",
   "metadata": {},
   "source": [
    "# KoBERT 기반 감성 분류\n",
    "\n",
    "이 노트북은 KoBERT 모델을 이용해 리뷰 데이터를 학습하고 감성 분류 정확도를 평가하는 예제입니다."
   ]
  },
  {
   "cell_type": "code",
   "execution_count": null,
   "metadata": {},
   "outputs": [],
   "source": [
    "# 0. 필요 라이브러리 설치\n",
    "!pip install datasets transformers scikit-learn torch sentencepiece"
   ]
  },
  {
   "cell_type": "code",
   "execution_count": null,
   "metadata": {},
   "outputs": [],
   "source": [
    "# 1. 라이브러리 임포트\n",
    "from datasets import load_dataset\n",
    "from transformers import AutoTokenizer, AutoModelForSequenceClassification, Trainer, TrainingArguments\n",
    "import torch\n",
    "from sklearn.metrics import accuracy_score"
   ]
  },
  {
   "cell_type": "markdown",
   "metadata": {},
   "source": [
    "## 데이터 준비"
   ]
  },
  {
   "cell_type": "code",
   "execution_count": null,
   "metadata": {},
   "outputs": [],
   "source": [
    "# 2. KoBERT 토크나이저 로드\n",
    "tokenizer = AutoTokenizer.from_pretrained(\"skt/kobert-base-v1\")\n",
    "print(\"KoBERT 토크나이저 로드 완료\")"
   ]
  },
  {
   "cell_type": "code",
   "execution_count": null,
   "metadata": {},
   "outputs": [],
   "source": [
    "# 3. CSV 파일 → Hugging Face Dataset 로드\n",
    "dataset = load_dataset(\"csv\", data_files={\"train\": \"review.csv\"})\n",
    "print(\"CSV 로드 완료\")\n",
    "print(\"데이터 컬럼:\", dataset[\"train\"].column_names)"
   ]
  },
  {
   "cell_type": "code",
   "execution_count": null,
   "metadata": {},
   "outputs": [],
   "source": [
    "# 4. 토크나이저 적용 함수\n",
    "def tokenize_function(examples):\n",
    "    return tokenizer(examples[\"review\"], padding=\"max_length\", truncation=True, max_length=128, return_token_type_ids=False)"
   ]
  },
  {
   "cell_type": "code",
   "execution_count": null,
   "metadata": {},
   "outputs": [],
   "source": [
    "# 5. 전체 데이터셋에 토큰화 적용\n",
    "tokenized_dataset = dataset.map(tokenize_function, batched=True)\n",
    "tokenized_dataset = tokenized_dataset.remove_columns([\"review\"])\n",
    "tokenized_dataset.set_format(\"torch\")\n",
    "print(\"토크나이징 완료\")"
   ]
  },
  {
   "cell_type": "code",
   "execution_count": null,
   "metadata": {},
   "outputs": [],
   "source": [
    "# 6. Train-Test Split (80% 훈련, 20% 테스트)\n",
    "split_datasets = tokenized_dataset[\"train\"].train_test_split(test_size=0.2)\n",
    "tokenized_dataset = split_datasets\n",
    "print(\"Train/Test 분할 완료\")\n",
    "print(\"Train 데이터 개수:\", len(tokenized_dataset[\"train\"]))\n",
    "print(\"Test 데이터 개수:\", len(tokenized_dataset[\"test\"]))"
   ]
  },
  {
   "cell_type": "markdown",
   "metadata": {},
   "source": [
    "## 모델 준비"
   ]
  },
  {
   "cell_type": "code",
   "execution_count": null,
   "metadata": {},
   "outputs": [],
   "source": [
    "# 7. KoBERT 모델 로드\n",
    "model = AutoModelForSequenceClassification.from_pretrained(\"skt/kobert-base-v1\", num_labels=7)\n",
    "print(\"KoBERT 모델 로드 완료\")"
   ]
  },
  {
   "cell_type": "code",
   "execution_count": null,
   "metadata": {},
   "outputs": [],
   "source": [
    "# 라벨을 int 형식으로 변환\n",
    "def cast_to_int(example):\n",
    "    example[\"label\"] = int(example[\"label\"])\n",
    "    return example\n",
    "\n",
    "tokenized_dataset = tokenized_dataset.map(cast_to_int)"
   ]
  },
  {
   "cell_type": "markdown",
   "metadata": {},
   "source": [
    "## 학습 설정"
   ]
  },
  {
   "cell_type": "code",
   "execution_count": null,
   "metadata": {},
   "outputs": [],
   "source": [
    "import os\n",
    "os.environ['CUDA_LAUNCH_BLOCKING'] = \"1\"\n",
    "\n",
    "training_args = TrainingArguments(\n",
    "    output_dir='./results',\n",
    "    num_train_epochs=10,\n",
    "    per_device_train_batch_size=4,\n",
    "    per_device_eval_batch_size=4,\n",
    "    save_total_limit=2,\n",
    "    evaluation_strategy=\"epoch\",\n",
    "    logging_strategy=\"steps\",\n",
    "    logging_steps=10,\n",
    "    save_strategy=\"epoch\",\n",
    "    logging_dir='./logs',\n",
    "    report_to=\"none\"\n",
    ")\n",
    "\n",
    "trainer = Trainer(\n",
    "    model=model,\n",
    "    args=training_args,\n",
    "    train_dataset=tokenized_dataset[\"train\"],\n",
    "    eval_dataset=tokenized_dataset[\"test\"]\n",
    ")"
   ]
  },
  {
   "cell_type": "markdown",
   "metadata": {},
   "source": [
    "## 학습 및 평가"
   ]
  },
  {
   "cell_type": "code",
   "execution_count": null,
   "metadata": {},
   "outputs": [],
   "source": [
    "print(\"학습 시작\")\n",
    "trainer.train()\n",
    "print(\"학습 완료\")"
   ]
  },
  {
   "cell_type": "code",
   "execution_count": null,
   "metadata": {},
   "outputs": [],
   "source": [
    "print(\"테스트 세트 평가\")\n",
    "predictions = trainer.predict(tokenized_dataset[\"test\"])\n",
    "preds = torch.argmax(torch.tensor(predictions.predictions), dim=1)\n",
    "labels = tokenized_dataset[\"test\"][\"label\"][:]\n",
    "acc = accuracy_score(labels, preds.tolist())\n",
    "print(f\"최종 정확도: {acc:.4f}\")"
   ]
  }
 ],
 "metadata": {
  "kernelspec": {
   "display_name": "Python 3",
   "language": "python",
   "name": "python3"
  },
  "language_info": {
   "name": "python",
   "version": "3.10"
  }
 },
 "nbformat": 4,
 "nbformat_minor": 5
}
